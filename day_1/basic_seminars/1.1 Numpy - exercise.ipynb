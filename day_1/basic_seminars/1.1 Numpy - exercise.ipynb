{
 "cells": [
  {
   "cell_type": "markdown",
   "metadata": {
    "slideshow": {
     "slide_type": "slide"
    }
   },
   "source": [
    "# NumPy Exercises\n",
    "due to Petr Romov"
   ]
  },
  {
   "cell_type": "code",
   "execution_count": 1,
   "metadata": {
    "collapsed": true,
    "slideshow": {
     "slide_type": "skip"
    }
   },
   "outputs": [],
   "source": [
    "import numpy as np"
   ]
  },
  {
   "cell_type": "markdown",
   "metadata": {
    "slideshow": {
     "slide_type": "subslide"
    }
   },
   "source": [
    "SELF. Generate a matrix with 1000 rows and 50 columns, elements being drawn from normal distribution $\\mathcal{N}(1, 10)$. Specify random seed to make the result reproducible. Use http://docs.scipy.org/doc/numpy/reference/routines.random.html"
   ]
  },
  {
   "cell_type": "code",
   "execution_count": 21,
   "metadata": {
    "collapsed": false
   },
   "outputs": [
    {
     "name": "stdout",
     "output_type": "stream",
     "text": [
      "(1000, 50)\n",
      "[ 18.64052346   5.00157208  10.78737984  23.40893199  19.6755799\n",
      "  -8.7727788   10.50088418  -0.51357208  -0.03218852   5.10598502\n",
      "   2.44043571  15.54273507   8.61037725   2.21675016   5.43863233\n",
      "   4.33674327  15.94079073  -1.05158264   4.13067702  -7.54095739\n",
      " -24.52989816   7.53618595   9.64436199  -6.4216502   23.69754624\n",
      " -13.54365675   1.45758517  -0.8718385   16.32779214  15.6935877\n",
      "   2.54947426   4.7816252   -7.87785748 -18.80796468  -2.47912149\n",
      "   2.56348969  13.30290681  13.02379849  -2.87326817  -2.02302751\n",
      "  -9.48552965 -13.20017937 -16.06270191  20.50775395  -4.09652182\n",
      "  -3.38074302 -11.5279536    8.77490356 -15.13897848  -1.1274028 ]\n"
     ]
    }
   ],
   "source": [
    "np.random.seed(0)\n",
    "normal_matrix = np.random.normal(1,10,(1000,50))\n",
    "print normal_matrix.shape\n",
    "print normal_matrix[0]\n"
   ]
  },
  {
   "cell_type": "markdown",
   "metadata": {
    "slideshow": {
     "slide_type": "subslide"
    }
   },
   "source": [
    "SELF. Normalize the matrix: subtract from each column its mean and divide by the standard deviation. I suggest np.mean, np.std with axis parameter."
   ]
  },
  {
   "cell_type": "markdown",
   "metadata": {
    "slideshow": {
     "slide_type": "subslide"
    }
   },
   "source": [
    "Print for the following matrix row numbers for those rows, where element sum is greater than 10. I suggest np.sum and np.nonzero"
   ]
  },
  {
   "cell_type": "code",
   "execution_count": 7,
   "metadata": {
    "collapsed": false
   },
   "outputs": [],
   "source": [
    "Z = np.array([[4, 5, 0],\n",
    "              [1, 9, 3],\n",
    "              [5, 1, 1],\n",
    "              [3, 3, 3],\n",
    "              [9, 9, 9],\n",
    "              [4, 7, 1]])"
   ]
  },
  {
   "cell_type": "markdown",
   "metadata": {},
   "source": [
    "Write a python function to get N largest values from a 1D or 2D array. It should accept as a mandatory parameter N - the number of values to return and optional axis. If axis is not specified, use the flattened array, if specified - return a matrix with N maximum values for each row or column (depends on the axis). BONUS - allow arrays of arbitary dimensions, axis should work as in https://docs.scipy.org/doc/numpy/reference/generated/numpy.amax.html#numpy.amax"
   ]
  }
 ],
 "metadata": {
  "celltoolbar": "Slideshow",
  "kernelspec": {
   "display_name": "Python 2",
   "language": "python",
   "name": "python2"
  },
  "language_info": {
   "codemirror_mode": {
    "name": "ipython",
    "version": 2
   },
   "file_extension": ".py",
   "mimetype": "text/x-python",
   "name": "python",
   "nbconvert_exporter": "python",
   "pygments_lexer": "ipython2",
   "version": "2.7.11"
  }
 },
 "nbformat": 4,
 "nbformat_minor": 0
}
